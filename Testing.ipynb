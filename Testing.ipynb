{
 "cells": [
  {
   "cell_type": "code",
   "execution_count": 1,
   "metadata": {},
   "outputs": [
    {
     "name": "stderr",
     "output_type": "stream",
     "text": [
      "/home/yves/PycharmProjects/zipline-lib/venv/lib/python3.6/site-packages/h5py/__init__.py:36: FutureWarning: Conversion of the second argument of issubdtype from `float` to `np.floating` is deprecated. In future, it will be treated as `np.float64 == np.dtype(float).type`.\n",
      "  from ._conv import register_converters as _register_converters\n"
     ]
    }
   ],
   "source": [
    "from concurrent import futures\n",
    "\n",
    "import grpc\n",
    "\n",
    "import pandas as pd\n",
    "\n",
    "from IPython.display import display\n",
    "\n",
    "from pluto.dev import dev\n",
    "from pluto.interface import directory\n",
    "from pluto.coms.utils import conversions\n",
    "\n",
    "from protos import controller_pb2\n",
    "from protos import development_pb2\n",
    "from protos import interface_pb2\n",
    "\n",
    "framework_url = '[::]:50051'\n",
    "\n",
    "class Client(object):\n",
    "    def __init__(self, environment):\n",
    "        self._env = environment\n",
    "        \n",
    "        self._start = None\n",
    "        self._end = None\n",
    "        self._session_id = None\n",
    "        \n",
    "        self._edt = environment._editor\n",
    "        self._ctl = environment._controller\n",
    "        self._exp = environment._explorer\n",
    "    \n",
    "    def setup(self, \n",
    "              strategy_id, \n",
    "              start, \n",
    "              end, \n",
    "              capital, \n",
    "              max_leverage, \n",
    "              universe, \n",
    "              data_frequency, \n",
    "              look_back):\n",
    "        \n",
    "        self._start = start\n",
    "        self._end = end\n",
    "        response = self._env.Setup(\n",
    "            development_pb2.SetupRequest(\n",
    "                strategy_id=strategy_id,\n",
    "                capital=capital,\n",
    "                max_leverage=max_leverage,\n",
    "                start=conversions.to_proto_timestamp(start),\n",
    "                end=conversions.to_proto_timestamp(end),\n",
    "                universe=universe,\n",
    "                data_frequency=data_frequency,\n",
    "                look_back=look_back), ())\n",
    "        \n",
    "        self._session_id = sess_id = response.session_id\n",
    "        return sess_id\n",
    "    \n",
    "    def run(self, capital_ratio, max_leverage):\n",
    "        session_id = self._session_id\n",
    "        if not session_id:\n",
    "            raise RuntimeError('No session was setup')\n",
    "        \n",
    "        self._env._controller.Run(\n",
    "            controller_pb2.RunRequest(\n",
    "                run_params=[\n",
    "                    controller_pb2.RunParams(\n",
    "                        session_id=session_id,\n",
    "                        capital_ratio=capital_ratio,\n",
    "                        max_leverage=max_leverage)],\n",
    "                end=conversions.to_proto_timestamp(self._end)), ())\n",
    "    \n",
    "    def strategy_list(self):\n",
    "        return self._exp.StrategyList(\n",
    "            interface_pb2.StrategyFilter(), ())\n",
    "    \n",
    "    def get_strategy(self, strategy_id):\n",
    "        b = b''\n",
    "        for chunk in self._edt.GetStrategy(\n",
    "            development_pb2.StrategyRequest(\n",
    "                strategy_id=strategy_id), ()):\n",
    "            b += chunk.data\n",
    "        return b\n",
    "    \n",
    "    def add_strategy(self, name):\n",
    "        return self._edt.New(\n",
    "            development_pb2.NewStrategyRequest(\n",
    "                name=name), ())\n",
    "        \n",
    "\n",
    "dir_ = directory.Directory()\n",
    "d = dir_.__enter__()\n",
    "env = dev.Environment(grpc.server(futures.ThreadPoolExecutor(10)), d, framework_url)\n",
    "client = Client(env)\n",
    "\n",
    "def setup(strategy_id, capital=50000, max_leverage=1.0, universe='test'):\n",
    "    start_ = pd.Timestamp('1990-01-02 00:00:00')\n",
    "    display(\n",
    "        client.setup(\n",
    "            strategy_id,\n",
    "            start_,\n",
    "            start_ + pd.Timedelta(days=2000),\n",
    "            capital,max_leverage,\n",
    "            universe,\n",
    "            'daily',\n",
    "            150))\n",
    "\n",
    "def run(capital_ratio=1.0, max_leverage=1.0):\n",
    "    start_ = pd.Timestamp('1990-01-02 00:00:00')\n",
    "    client.run(\n",
    "        capital_ratio,\n",
    "        max_leverage\n",
    "    )\n",
    "\n",
    "def add_strategy(name):\n",
    "    b = b''\n",
    "    for chunk in client.add_strategy(name):\n",
    "        b += chunk.data\n",
    "    display(b)\n",
    "\n",
    "def get_strategy(strategy_id):\n",
    "    print(client.get_strategy(strategy_id).decode('utf-8'))\n",
    "\n",
    "def strategy_list():\n",
    "    display([d for d in client.strategy_list()])"
   ]
  },
  {
   "cell_type": "code",
   "execution_count": 2,
   "metadata": {},
   "outputs": [
    {
     "name": "stdout",
     "output_type": "stream",
     "text": [
      "Fetching list...\n",
      "Done\n"
     ]
    },
    {
     "data": {
      "text/plain": [
       "[strategy_id: \"2b772b33eb2d4a12b6cfdca11f642e66\"\n",
       " name: \"test\"]"
      ]
     },
     "metadata": {},
     "output_type": "display_data"
    }
   ],
   "source": [
    "strategy_list()"
   ]
  },
  {
   "cell_type": "code",
   "execution_count": 19,
   "metadata": {},
   "outputs": [
    {
     "data": {
      "text/plain": [
       "b'Hello World!!!'"
      ]
     },
     "metadata": {},
     "output_type": "display_data"
    }
   ],
   "source": [
    "add_strategy('test')"
   ]
  },
  {
   "cell_type": "code",
   "execution_count": null,
   "metadata": {},
   "outputs": [],
   "source": []
  },
  {
   "cell_type": "code",
   "execution_count": 3,
   "metadata": {},
   "outputs": [
    {
     "data": {
      "text/plain": [
       "'2b772b33eb2d4a12b6cfdca11f642e66test'"
      ]
     },
     "metadata": {},
     "output_type": "display_data"
    }
   ],
   "source": [
    "setup(\"2b772b33eb2d4a12b6cfdca11f642e66\")"
   ]
  },
  {
   "cell_type": "code",
   "execution_count": 4,
   "metadata": {},
   "outputs": [
    {
     "name": "stdout",
     "output_type": "stream",
     "text": [
      "Alias NASDAQ, XNYS\n",
      "Alias NYSE, XNYS\n",
      "Alias AMEX, XNYS\n",
      "session_id: \"2b772b33eb2d4a12b6cfdca11f642e66test\"\n",
      "capital_ratio: 1.0\n",
      "max_leverage: 1.0\n",
      "\n"
     ]
    },
    {
     "ename": "AttributeError",
     "evalue": "strategy_id",
     "output_type": "error",
     "traceback": [
      "\u001b[0;31m---------------------------------------------------------------------------\u001b[0m",
      "\u001b[0;31mAttributeError\u001b[0m                            Traceback (most recent call last)",
      "\u001b[0;32m<ipython-input-4-ec9775ede022>\u001b[0m in \u001b[0;36m<module>\u001b[0;34m\u001b[0m\n\u001b[0;32m----> 1\u001b[0;31m \u001b[0mrun\u001b[0m\u001b[0;34m(\u001b[0m\u001b[0;34m)\u001b[0m\u001b[0;34m\u001b[0m\u001b[0;34m\u001b[0m\u001b[0m\n\u001b[0m",
      "\u001b[0;32m<ipython-input-1-8dbcc4b8fb95>\u001b[0m in \u001b[0;36mrun\u001b[0;34m(capital_ratio, max_leverage)\u001b[0m\n\u001b[1;32m    108\u001b[0m     client.run(\n\u001b[1;32m    109\u001b[0m         \u001b[0mcapital_ratio\u001b[0m\u001b[0;34m,\u001b[0m\u001b[0;34m\u001b[0m\u001b[0;34m\u001b[0m\u001b[0m\n\u001b[0;32m--> 110\u001b[0;31m         \u001b[0mmax_leverage\u001b[0m\u001b[0;34m\u001b[0m\u001b[0;34m\u001b[0m\u001b[0m\n\u001b[0m\u001b[1;32m    111\u001b[0m     )\n\u001b[1;32m    112\u001b[0m \u001b[0;34m\u001b[0m\u001b[0m\n",
      "\u001b[0;32m<ipython-input-1-8dbcc4b8fb95>\u001b[0m in \u001b[0;36mrun\u001b[0;34m(self, capital_ratio, max_leverage)\u001b[0m\n\u001b[1;32m     67\u001b[0m                         \u001b[0mcapital_ratio\u001b[0m\u001b[0;34m=\u001b[0m\u001b[0mcapital_ratio\u001b[0m\u001b[0;34m,\u001b[0m\u001b[0;34m\u001b[0m\u001b[0;34m\u001b[0m\u001b[0m\n\u001b[1;32m     68\u001b[0m                         max_leverage=max_leverage)],\n\u001b[0;32m---> 69\u001b[0;31m                 end=conversions.to_proto_timestamp(self._end)), ())\n\u001b[0m\u001b[1;32m     70\u001b[0m \u001b[0;34m\u001b[0m\u001b[0m\n\u001b[1;32m     71\u001b[0m     \u001b[0;32mdef\u001b[0m \u001b[0mstrategy_list\u001b[0m\u001b[0;34m(\u001b[0m\u001b[0mself\u001b[0m\u001b[0;34m)\u001b[0m\u001b[0;34m:\u001b[0m\u001b[0;34m\u001b[0m\u001b[0;34m\u001b[0m\u001b[0m\n",
      "\u001b[0;32m~/PycharmProjects/zipline-lib/pluto/controller/controllerservice.py\u001b[0m in \u001b[0;36mRun\u001b[0;34m(self, request, context)\u001b[0m\n\u001b[1;32m     27\u001b[0m             \u001b[0mctl\u001b[0m \u001b[0;34m=\u001b[0m \u001b[0mself\u001b[0m\u001b[0;34m.\u001b[0m\u001b[0m_controller\u001b[0m\u001b[0;34m\u001b[0m\u001b[0;34m\u001b[0m\u001b[0m\n\u001b[1;32m     28\u001b[0m             \u001b[0;32mtry\u001b[0m\u001b[0;34m:\u001b[0m\u001b[0;34m\u001b[0m\u001b[0;34m\u001b[0m\u001b[0m\n\u001b[0;32m---> 29\u001b[0;31m                 \u001b[0mctl\u001b[0m\u001b[0;34m.\u001b[0m\u001b[0mrun\u001b[0m\u001b[0;34m(\u001b[0m\u001b[0md\u001b[0m\u001b[0;34m,\u001b[0m \u001b[0mrequest\u001b[0m\u001b[0;34m.\u001b[0m\u001b[0mrun_params\u001b[0m\u001b[0;34m)\u001b[0m\u001b[0;34m\u001b[0m\u001b[0;34m\u001b[0m\u001b[0m\n\u001b[0m\u001b[1;32m     30\u001b[0m             \u001b[0;32mexcept\u001b[0m \u001b[0mRuntimeError\u001b[0m \u001b[0;32mas\u001b[0m \u001b[0me\u001b[0m\u001b[0;34m:\u001b[0m\u001b[0;34m\u001b[0m\u001b[0;34m\u001b[0m\u001b[0m\n\u001b[1;32m     31\u001b[0m                 \u001b[0mcontext\u001b[0m\u001b[0;34m.\u001b[0m\u001b[0mset_code\u001b[0m\u001b[0;34m(\u001b[0m\u001b[0mgrpc\u001b[0m\u001b[0;34m.\u001b[0m\u001b[0mStatusCode\u001b[0m\u001b[0;34m.\u001b[0m\u001b[0mUNAVAILABLE\u001b[0m\u001b[0;34m)\u001b[0m\u001b[0;34m\u001b[0m\u001b[0;34m\u001b[0m\u001b[0m\n",
      "\u001b[0;32m~/PycharmProjects/zipline-lib/pluto/controller/controller.py\u001b[0m in \u001b[0;36mrun\u001b[0;34m(self, directory, params)\u001b[0m\n\u001b[1;32m    134\u001b[0m                     \u001b[0mend\u001b[0m\u001b[0;34m,\u001b[0m\u001b[0;34m\u001b[0m\u001b[0;34m\u001b[0m\u001b[0m\n\u001b[1;32m    135\u001b[0m                     'pluto'))\n\u001b[0;32m--> 136\u001b[0;31m         \u001b[0mloop\u001b[0m\u001b[0;34m.\u001b[0m\u001b[0mexecute\u001b[0m\u001b[0;34m(\u001b[0m\u001b[0mcommands\u001b[0m\u001b[0;34m.\u001b[0m\u001b[0mRun\u001b[0m\u001b[0;34m(\u001b[0m\u001b[0mdirectory\u001b[0m\u001b[0;34m,\u001b[0m \u001b[0mparams\u001b[0m\u001b[0;34m,\u001b[0m \u001b[0mset\u001b[0m\u001b[0;34m(\u001b[0m\u001b[0mexchanges\u001b[0m\u001b[0;34m)\u001b[0m\u001b[0;34m)\u001b[0m\u001b[0;34m)\u001b[0m\u001b[0;34m\u001b[0m\u001b[0;34m\u001b[0m\u001b[0m\n\u001b[0m\u001b[1;32m    137\u001b[0m         \u001b[0mloop\u001b[0m\u001b[0;34m.\u001b[0m\u001b[0mstart\u001b[0m\u001b[0;34m(\u001b[0m\u001b[0;34m)\u001b[0m\u001b[0;34m\u001b[0m\u001b[0;34m\u001b[0m\u001b[0m\n\u001b[1;32m    138\u001b[0m         \u001b[0;31m#todo: if the loop is already running, raise an error? in live,\u001b[0m\u001b[0;34m\u001b[0m\u001b[0;34m\u001b[0m\u001b[0;34m\u001b[0m\u001b[0m\n",
      "\u001b[0;32m~/PycharmProjects/zipline-lib/pluto/control/loop/simulation_loop.py\u001b[0m in \u001b[0;36mexecute\u001b[0;34m(self, command)\u001b[0m\n\u001b[1;32m     63\u001b[0m     \u001b[0;32mdef\u001b[0m \u001b[0mexecute\u001b[0m\u001b[0;34m(\u001b[0m\u001b[0mself\u001b[0m\u001b[0;34m,\u001b[0m \u001b[0mcommand\u001b[0m\u001b[0;34m)\u001b[0m\u001b[0;34m:\u001b[0m\u001b[0;34m\u001b[0m\u001b[0;34m\u001b[0m\u001b[0m\n\u001b[1;32m     64\u001b[0m         \u001b[0;32mwith\u001b[0m \u001b[0mself\u001b[0m\u001b[0;34m.\u001b[0m\u001b[0m_execution_lock\u001b[0m\u001b[0;34m:\u001b[0m\u001b[0;34m\u001b[0m\u001b[0;34m\u001b[0m\u001b[0m\n\u001b[0;32m---> 65\u001b[0;31m             \u001b[0mcommand\u001b[0m\u001b[0;34m(\u001b[0m\u001b[0mself\u001b[0m\u001b[0;34m.\u001b[0m\u001b[0m_control_mode\u001b[0m\u001b[0;34m,\u001b[0m \u001b[0mself\u001b[0m\u001b[0;34m.\u001b[0m\u001b[0m_get_clocks\u001b[0m\u001b[0;34m)\u001b[0m\u001b[0;34m\u001b[0m\u001b[0;34m\u001b[0m\u001b[0m\n\u001b[0m\u001b[1;32m     66\u001b[0m \u001b[0;34m\u001b[0m\u001b[0m\n\u001b[1;32m     67\u001b[0m     \u001b[0;32mdef\u001b[0m \u001b[0mstop\u001b[0m\u001b[0;34m(\u001b[0m\u001b[0mself\u001b[0m\u001b[0;34m)\u001b[0m\u001b[0;34m:\u001b[0m\u001b[0;34m\u001b[0m\u001b[0;34m\u001b[0m\u001b[0m\n",
      "\u001b[0;32m~/PycharmProjects/zipline-lib/pluto/control/commands.py\u001b[0m in \u001b[0;36m__call__\u001b[0;34m(self, control_mode, clock_factory)\u001b[0m\n\u001b[1;32m     36\u001b[0m     \u001b[0;32mdef\u001b[0m \u001b[0m__call__\u001b[0m\u001b[0;34m(\u001b[0m\u001b[0mself\u001b[0m\u001b[0;34m,\u001b[0m \u001b[0mcontrol_mode\u001b[0m\u001b[0;34m,\u001b[0m \u001b[0mclock_factory\u001b[0m\u001b[0;34m)\u001b[0m\u001b[0;34m:\u001b[0m\u001b[0;34m\u001b[0m\u001b[0;34m\u001b[0m\u001b[0m\n\u001b[1;32m     37\u001b[0m         \u001b[0mclock_factory\u001b[0m\u001b[0;34m(\u001b[0m\u001b[0mself\u001b[0m\u001b[0;34m.\u001b[0m\u001b[0m_exchanges\u001b[0m\u001b[0;34m)\u001b[0m\u001b[0;34m\u001b[0m\u001b[0;34m\u001b[0m\u001b[0m\n\u001b[0;32m---> 38\u001b[0;31m         \u001b[0mcontrol_mode\u001b[0m\u001b[0;34m.\u001b[0m\u001b[0madd_strategies\u001b[0m\u001b[0;34m(\u001b[0m\u001b[0mself\u001b[0m\u001b[0;34m.\u001b[0m\u001b[0m_directory\u001b[0m\u001b[0;34m,\u001b[0m \u001b[0mself\u001b[0m\u001b[0;34m.\u001b[0m\u001b[0m_params\u001b[0m\u001b[0;34m)\u001b[0m\u001b[0;34m\u001b[0m\u001b[0;34m\u001b[0m\u001b[0m\n\u001b[0m",
      "\u001b[0;32m~/PycharmProjects/zipline-lib/pluto/control/modes/mode.py\u001b[0m in \u001b[0;36madd_strategies\u001b[0;34m(self, directory, params)\u001b[0m\n\u001b[1;32m    171\u001b[0m         \u001b[0;32mfor\u001b[0m \u001b[0mp\u001b[0m \u001b[0;32min\u001b[0m \u001b[0mfilter_to_run\u001b[0m\u001b[0;34m(\u001b[0m\u001b[0;34m)\u001b[0m\u001b[0;34m:\u001b[0m\u001b[0;34m\u001b[0m\u001b[0;34m\u001b[0m\u001b[0m\n\u001b[1;32m    172\u001b[0m             \u001b[0mprint\u001b[0m\u001b[0;34m(\u001b[0m\u001b[0mp\u001b[0m\u001b[0;34m)\u001b[0m\u001b[0;34m\u001b[0m\u001b[0;34m\u001b[0m\u001b[0m\n\u001b[0;32m--> 173\u001b[0;31m             \u001b[0mstg_id\u001b[0m \u001b[0;34m=\u001b[0m \u001b[0mp\u001b[0m\u001b[0;34m.\u001b[0m\u001b[0mstrategy_id\u001b[0m\u001b[0;34m\u001b[0m\u001b[0;34m\u001b[0m\u001b[0m\n\u001b[0m\u001b[1;32m    174\u001b[0m             \u001b[0mstg\u001b[0m \u001b[0;34m=\u001b[0m \u001b[0mstrategies\u001b[0m\u001b[0;34m.\u001b[0m\u001b[0mget\u001b[0m\u001b[0;34m(\u001b[0m\u001b[0mstg_id\u001b[0m\u001b[0;34m,\u001b[0m \u001b[0;32mNone\u001b[0m\u001b[0;34m)\u001b[0m\u001b[0;34m\u001b[0m\u001b[0;34m\u001b[0m\u001b[0m\n\u001b[1;32m    175\u001b[0m             \u001b[0;32mif\u001b[0m \u001b[0;32mnot\u001b[0m \u001b[0mstg\u001b[0m\u001b[0;34m:\u001b[0m\u001b[0;34m\u001b[0m\u001b[0;34m\u001b[0m\u001b[0m\n",
      "\u001b[0;31mAttributeError\u001b[0m: strategy_id"
     ]
    }
   ],
   "source": [
    "run()"
   ]
  },
  {
   "cell_type": "code",
   "execution_count": null,
   "metadata": {},
   "outputs": [],
   "source": []
  }
 ],
 "metadata": {
  "kernelspec": {
   "display_name": "Python 3",
   "language": "python",
   "name": "python3"
  },
  "language_info": {
   "codemirror_mode": {
    "name": "ipython",
    "version": 3
   },
   "file_extension": ".py",
   "mimetype": "text/x-python",
   "name": "python",
   "nbconvert_exporter": "python",
   "pygments_lexer": "ipython3",
   "version": "3.6.9"
  }
 },
 "nbformat": 4,
 "nbformat_minor": 4
}
